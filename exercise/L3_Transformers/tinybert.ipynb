{
  "nbformat": 4,
  "nbformat_minor": 0,
  "metadata": {
    "colab": {
      "name": "tinybert.ipynb",
      "provenance": []
    },
    "kernelspec": {
      "name": "python3",
      "display_name": "Python 3"
    },
    "language_info": {
      "name": "python"
    }
  },
  "cells": [
    {
      "cell_type": "markdown",
      "source": [
        "## **Environment**\n"
      ],
      "metadata": {
        "id": "RzdleyWPP7Cu"
      }
    },
    {
      "cell_type": "code",
      "source": [
        "! pip install transformers datasets"
      ],
      "metadata": {
        "id": "8CjP4IClSCp0"
      },
      "execution_count": null,
      "outputs": []
    },
    {
      "cell_type": "markdown",
      "source": [
        "## **Load the dataset**"
      ],
      "metadata": {
        "id": "Wg8fiDJORK09"
      }
    },
    {
      "cell_type": "code",
      "source": [
        "from datasets import load_dataset, load_metric\n",
        "dataset = load_dataset(\"glue\", 'qnli')\n",
        "metric = load_metric('glue', 'qnli')"
      ],
      "metadata": {
        "id": "m8ICLU9dROrm"
      },
      "execution_count": null,
      "outputs": []
    },
    {
      "cell_type": "markdown",
      "source": [
        "## **Tokenization**"
      ],
      "metadata": {
        "id": "tXydFpKRSV6m"
      }
    },
    {
      "cell_type": "code",
      "source": [
        "from transformers import AutoTokenizer\n",
        "tokenizer = AutoTokenizer.from_pretrained('google/bert_uncased_L-2_H-128_A-2')\n",
        "def preprocess_function(examples):\n",
        "    return tokenizer(examples['sentence'], truncation=True)\n",
        "encoded_dataset = dataset.map(preprocess_function, batched=True)"
      ],
      "metadata": {
        "id": "vM8cg-DNSXZc"
      },
      "execution_count": null,
      "outputs": []
    },
    {
      "cell_type": "markdown",
      "source": [
        "## **Fine-tune**"
      ],
      "metadata": {
        "id": "HYdkKBZiTd3T"
      }
    },
    {
      "cell_type": "code",
      "source": [
        "from transformers import AutoModelForSequenceClassification\n",
        "model = AutoModelForSequenceClassification.from_pretrained('google/bert_uncased_L-2_H-128_A-2')\n",
        "\n",
        "from transformers import TrainingArguments\n",
        "batch_size=16\n",
        "args = TrainingArguments(\n",
        "    \"tiny-bert-finetuned-qnli\",\n",
        "    evaluation_strategy=\"epoch\",\n",
        "    save_strategy=\"epoch\",\n",
        "    learning_rate=2e-5,\n",
        "    per_device_train_batch_size=batch_size,\n",
        "    per_device_eval_batch_size=batch_size,\n",
        "    num_train_epochs=5,\n",
        "    weight_decay=0.01,\n",
        "    load_best_model_at_end=True,\n",
        "    metric_for_best_model=\"accuracy\"\n",
        ")\n",
        "\n",
        "import numpy as np\n",
        "def compute_metrics(eval_pred):\n",
        "    logits, labels = eval_pred\n",
        "    predictions = np.argmax(logits, axis=1)\n",
        "    return metric.compute(predictions=predictions, references=labels)\n",
        "\n",
        "from transformers import Trainer\n",
        "trainer = Trainer(\n",
        "    model,\n",
        "    args,\n",
        "    train_dataset=encoded_dataset[\"train\"],\n",
        "    eval_dataset=encoded_dataset[\"validation\"],\n",
        "    tokenizer=tokenizer,\n",
        "    compute_metrics=compute_metrics\n",
        ")\n",
        "\n",
        "trainer.train()"
      ],
      "metadata": {
        "id": "Ugdq4_u1TfHy"
      },
      "execution_count": null,
      "outputs": []
    }
  ]
}